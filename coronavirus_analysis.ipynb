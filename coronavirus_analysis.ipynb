{
 "cells": [
  {
   "cell_type": "code",
   "execution_count": 9,
   "metadata": {},
   "outputs": [
    {
     "name": "stderr",
     "output_type": "stream",
     "text": [
      "Parsed with column specification:\n",
      "cols(\n",
      "  date = col_date(format = \"\"),\n",
      "  cum_cases = col_double()\n",
      ")\n"
     ]
    },
    {
     "ename": "ERROR",
     "evalue": "Error in confirmed_cases_worldwide(head = 5): could not find function \"confirmed_cases_worldwide\"\n",
     "output_type": "error",
     "traceback": [
      "Error in confirmed_cases_worldwide(head = 5): could not find function \"confirmed_cases_worldwide\"\nTraceback:\n"
     ]
    }
   ],
   "source": [
    "library(readr)\n",
    "library(ggplot2)\n",
    "library(dplyr)\n",
    "\n",
    "\n",
    "confirmed_cases_worldwide <- read_csv(\"C:/Users/Juhi Deshpande/Documents/Coronavirus Analysis/confirmed_cases_worldwide.csv\")\n",
    "# getwd()\n",
    "#check_path('/home/repl/datasets')\n",
    "# See the result\n",
    "confirmed_cases_worldwide"
   ]
  },
  {
   "cell_type": "code",
   "execution_count": 4,
   "metadata": {},
   "outputs": [
    {
     "data": {
      "image/png": "[encoded data removed]",
      "text/plain": [
       "plot without title"
      ]
     },
     "metadata": {},
     "output_type": "display_data"
    }
   ],
   "source": [
    "ggplot(confirmed_cases_worldwide,aes(x=date, y=cum_cases))+geom_line()+ylab(\"Cumulative confirmed cases\")\n"
   ]
  },
  {
   "cell_type": "code",
   "execution_count": 10,
   "metadata": {},
   "outputs": [
    {
     "ename": "ERROR",
     "evalue": "Error: 'C:/Users/Juhi Deshpande/Documents/Coronavirus Analysis/confirmed_cases_china_vs_world.csv' does not exist.\n",
     "output_type": "error",
     "traceback": [
      "Error: 'C:/Users/Juhi Deshpande/Documents/Coronavirus Analysis/confirmed_cases_china_vs_world.csv' does not exist.\nTraceback:\n",
      "1. read_csv(\"C:/Users/Juhi Deshpande/Documents/Coronavirus Analysis/confirmed_cases_china_vs_world.csv\")",
      "2. read_delimited(file, tokenizer, col_names = col_names, col_types = col_types, \n .     locale = locale, skip = skip, skip_empty_rows = skip_empty_rows, \n .     comment = comment, n_max = n_max, guess_max = guess_max, \n .     progress = progress)",
      "3. standardise_path(file)",
      "4. check_path(path)",
      "5. stop(\"'\", path, \"' does not exist\", if (!is_absolute_path(path)) paste0(\" in current working directory ('\", \n .     getwd(), \"')\"), \".\", call. = FALSE)"
     ]
    }
   ],
   "source": [
    "confirmed_cases_china_vs_world <- read_csv(\"C:/Users/Juhi Deshpande/Documents/Coronavirus Analysis/confirmed_cases_china_vs_world.csv\")\n",
    "\n",
    "# See the result\n",
    "glimpse(confirmed_cases_china_vs_world)\n",
    "\n",
    "# Draw a line plot of cumulative cases vs. date, grouped and colored by is_china\n",
    "# Define aesthetics within the line geom\n",
    "plt_cum_confirmed_cases_china_vs_world <- ggplot(confirmed_cases_china_vs_world) +\n",
    "  geom_line(aes(date,cum_cases, group=is_china, color=is_china)) +\n",
    "  ylab(\"Cumulative confirmed cases\")\n",
    "\n",
    "# See the plot\n",
    "plt_cum_confirmed_cases_china_vs_world"
   ]
  },
  {
   "cell_type": "code",
   "execution_count": 11,
   "metadata": {},
   "outputs": [
    {
     "data": {
      "text/html": [
       "<table>\n",
       "<thead><tr><th scope=col>date</th><th scope=col>event</th></tr></thead>\n",
       "<tbody>\n",
       "\t<tr><td>2020-01-30                       </td><td>Global health\n",
       "emergency declared</td></tr>\n",
       "\t<tr><td>2020-03-11                       </td><td>Pandemic\n",
       "declared               </td></tr>\n",
       "\t<tr><td>2020-02-13                       </td><td>China reporting\n",
       "change          </td></tr>\n",
       "</tbody>\n",
       "</table>\n"
      ],
      "text/latex": [
       "\\begin{tabular}{r|ll}\n",
       " date & event\\\\\n",
       "\\hline\n",
       "\t 2020-01-30                        & Global health\n",
       "emergency declared\\\\\n",
       "\t 2020-03-11                        & Pandemic\n",
       "declared               \\\\\n",
       "\t 2020-02-13                        & China reporting\n",
       "change          \\\\\n",
       "\\end{tabular}\n"
      ],
      "text/markdown": [
       "\n",
       "| date | event |\n",
       "|---|---|\n",
       "| 2020-01-30                        | Global health\n",
       "emergency declared |\n",
       "| 2020-03-11                        | Pandemic\n",
       "declared                |\n",
       "| 2020-02-13                        | China reporting\n",
       "change           |\n",
       "\n"
      ],
      "text/plain": [
       "  date       event                            \n",
       "1 2020-01-30 Global health\\nemergency declared\n",
       "2 2020-03-11 Pandemic\\ndeclared               \n",
       "3 2020-02-13 China reporting\\nchange          "
      ]
     },
     "metadata": {},
     "output_type": "display_data"
    },
    {
     "ename": "ERROR",
     "evalue": "Error in eval(expr, envir, enclos): object 'plt_cum_confirmed_cases_china_vs_world' not found\n",
     "output_type": "error",
     "traceback": [
      "Error in eval(expr, envir, enclos): object 'plt_cum_confirmed_cases_china_vs_world' not found\nTraceback:\n"
     ]
    }
   ],
   "source": [
    "who_events <- tribble(\n",
    "  ~ date, ~ event,\n",
    "  \"2020-01-30\", \"Global health\\nemergency declared\",\n",
    "  \"2020-03-11\", \"Pandemic\\ndeclared\",\n",
    "  \"2020-02-13\", \"China reporting\\nchange\"\n",
    ") %>%\n",
    "  mutate(date = as.Date(date))\n",
    "who_events\n",
    "# Using who_events, add vertical dashed lines with an xintercept at date\n",
    "# and text at date, labeled by event, and at 100000 on the y-axis\n",
    "plt_cum_confirmed_cases_china_vs_world +\n",
    "  geom_vline(aes(xintercept=date), data=who_events, linetype =\"dashed\")+\n",
    "  geom_text(aes(x=date, label= event), data= who_events, y=1e5)"
   ]
  },
  {
   "cell_type": "code",
   "execution_count": 12,
   "metadata": {},
   "outputs": [
    {
     "ename": "ERROR",
     "evalue": "Error in eval(lhs, parent, parent): object 'confirmed_cases_china_vs_world' not found\n",
     "output_type": "error",
     "traceback": [
      "Error in eval(lhs, parent, parent): object 'confirmed_cases_china_vs_world' not found\nTraceback:\n",
      "1. confirmed_cases_china_vs_world %>% filter(is_china == \"China\", \n .     date >= \"2020-02-15\")",
      "2. eval(lhs, parent, parent)",
      "3. eval(lhs, parent, parent)"
     ]
    }
   ],
   "source": [
    "# Filter for China, from Feb 15\n",
    "china_after_feb15 <- confirmed_cases_china_vs_world %>%\n",
    "  filter(is_china==\"China\", date >= \"2020-02-15\")\n",
    "\n",
    "# Using china_after_feb15, draw a line plot cum_cases vs. date\n",
    "# Add a smooth trend line using linear regression, no error bars\n",
    "ggplot(china_after_feb15, aes(date, cum_cases)) +\n",
    "   geom_line()+\n",
    "  geom_smooth(method=\"lm\", se = FALSE) +\n",
    "  ylab(\"Cumulative confirmed cases\")"
   ]
  },
  {
   "cell_type": "code",
   "execution_count": 13,
   "metadata": {},
   "outputs": [
    {
     "ename": "ERROR",
     "evalue": "Error in eval(lhs, parent, parent): object 'confirmed_cases_china_vs_world' not found\n",
     "output_type": "error",
     "traceback": [
      "Error in eval(lhs, parent, parent): object 'confirmed_cases_china_vs_world' not found\nTraceback:\n",
      "1. confirmed_cases_china_vs_world %>% filter(is_china == \"Not China\")",
      "2. eval(lhs, parent, parent)",
      "3. eval(lhs, parent, parent)"
     ]
    }
   ],
   "source": [
    "# Filter confirmed_cases_china_vs_world for not China\n",
    "not_china <- confirmed_cases_china_vs_world %>%\n",
    "  filter(is_china==\"Not China\")\n",
    "\n",
    "\n",
    "# Using not_china, draw a line plot cum_cases vs. date\n",
    "# Add a smooth trend line using linear regression, no error bars\n",
    "plt_not_china_trend_lin <-ggplot(not_china, aes(date, cum_cases)) +\n",
    "   geom_line()+\n",
    "  geom_smooth(method=\"lm\", se = FALSE) +\n",
    "  ylab(\"Cumulative confirmed cases\")\n",
    "# See the result\n",
    "plt_not_china_trend_lin "
   ]
  },
  {
   "cell_type": "code",
   "execution_count": 14,
   "metadata": {},
   "outputs": [
    {
     "ename": "ERROR",
     "evalue": "Error in eval(expr, envir, enclos): object 'plt_not_china_trend_lin' not found\n",
     "output_type": "error",
     "traceback": [
      "Error in eval(expr, envir, enclos): object 'plt_not_china_trend_lin' not found\nTraceback:\n"
     ]
    }
   ],
   "source": [
    "# Modify the plot to use a logarithmic scale on the y-axis\n",
    "plt_not_china_trend_lin + \n",
    " scale_y_log10() "
   ]
  },
  {
   "cell_type": "code",
   "execution_count": 15,
   "metadata": {},
   "outputs": [
    {
     "ename": "ERROR",
     "evalue": "Error: '../datasets/confirmed_cases_by_country.csv' does not exist in current working directory ('C:/Users/Juhi Deshpande/Documents/Coronavirus Analysis').\n",
     "output_type": "error",
     "traceback": [
      "Error: '../datasets/confirmed_cases_by_country.csv' does not exist in current working directory ('C:/Users/Juhi Deshpande/Documents/Coronavirus Analysis').\nTraceback:\n",
      "1. read_csv(\"../datasets/confirmed_cases_by_country.csv\")",
      "2. read_delimited(file, tokenizer, col_names = col_names, col_types = col_types, \n .     locale = locale, skip = skip, skip_empty_rows = skip_empty_rows, \n .     comment = comment, n_max = n_max, guess_max = guess_max, \n .     progress = progress)",
      "3. standardise_path(file)",
      "4. check_path(path)",
      "5. stop(\"'\", path, \"' does not exist\", if (!is_absolute_path(path)) paste0(\" in current working directory ('\", \n .     getwd(), \"')\"), \".\", call. = FALSE)"
     ]
    }
   ],
   "source": [
    "# Run this to get the data for each country\n",
    "confirmed_cases_by_country <- read_csv(\"../datasets/confirmed_cases_by_country.csv\")\n",
    "glimpse(confirmed_cases_by_country)\n",
    "\n",
    "# Group by country, summarize to calculate total cases, find the top 7\n",
    "top_countries_by_total_cases <- confirmed_cases_by_country %>%\n",
    "  group_by(country) %>%\n",
    "  summarize(total_cases=max(cum_cases)) %>%\n",
    "  top_n(7, total_cases)\n",
    "\n",
    "# See the result\n",
    "top_countries_by_total_cases"
   ]
  },
  {
   "cell_type": "code",
   "execution_count": 16,
   "metadata": {},
   "outputs": [
    {
     "ename": "ERROR",
     "evalue": "Error: '../datasets/confirmed_cases_top7_outside_china.csv' does not exist in current working directory ('C:/Users/Juhi Deshpande/Documents/Coronavirus Analysis').\n",
     "output_type": "error",
     "traceback": [
      "Error: '../datasets/confirmed_cases_top7_outside_china.csv' does not exist in current working directory ('C:/Users/Juhi Deshpande/Documents/Coronavirus Analysis').\nTraceback:\n",
      "1. read_csv(\"../datasets/confirmed_cases_top7_outside_china.csv\")",
      "2. read_delimited(file, tokenizer, col_names = col_names, col_types = col_types, \n .     locale = locale, skip = skip, skip_empty_rows = skip_empty_rows, \n .     comment = comment, n_max = n_max, guess_max = guess_max, \n .     progress = progress)",
      "3. standardise_path(file)",
      "4. check_path(path)",
      "5. stop(\"'\", path, \"' does not exist\", if (!is_absolute_path(path)) paste0(\" in current working directory ('\", \n .     getwd(), \"')\"), \".\", call. = FALSE)"
     ]
    }
   ],
   "source": [
    "# Run this to get the data for the top 7 countries\n",
    "confirmed_cases_top7_outside_china<-read_csv(\"../datasets/confirmed_cases_top7_outside_china.csv\")\n",
    "\n",
    "# \n",
    "glimpse(confirmed_cases_top7_outside_china)\n",
    "# Using confirmed_cases_top7_outside_china, draw a line plot of\n",
    "# cum_cases vs. date, grouped and colored by country\n",
    "ggplot(confirmed_cases_top7_outside_china,aes(date, cum_cases , group=country, color=country))+\n",
    "geom_line()+\n",
    "ylab(\"Cumulative confirmed cases\")"
   ]
  },
  {
   "cell_type": "code",
   "execution_count": null,
   "metadata": {},
   "outputs": [],
   "source": []
  }
 ],
 "metadata": {
  "kernelspec": {
   "display_name": "R",
   "language": "R",
   "name": "ir"
  },
  "language_info": {
   "codemirror_mode": "r",
   "file_extension": ".r",
   "mimetype": "text/x-r-source",
   "name": "R",
   "pygments_lexer": "r",
   "version": "3.6.1"
  }
 },
 "nbformat": 4,
 "nbformat_minor": 4
}
